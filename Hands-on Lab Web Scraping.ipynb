{
 "cells": [
  {
   "cell_type": "code",
   "execution_count": 1,
   "id": "12c07046-df24-49e1-aca4-48586032fbf8",
   "metadata": {
    "tags": []
   },
   "outputs": [],
   "source": [
    "from bs4 import BeautifulSoup"
   ]
  },
  {
   "cell_type": "code",
   "execution_count": 3,
   "id": "d3a3abb1-a8bf-4d46-b698-507ed50198d3",
   "metadata": {
    "tags": []
   },
   "outputs": [],
   "source": [
    "import requests\n",
    "import pandas as pd"
   ]
  },
  {
   "cell_type": "code",
   "execution_count": 5,
   "id": "2e3a0b84-9e9b-483c-b19b-f1ee1d3697d8",
   "metadata": {
    "tags": []
   },
   "outputs": [],
   "source": [
    "#this url contains the data you need to scrape\n",
    "url = \"https://cf-courses-data.s3.us.cloud-object-storage.appdomain.cloud/IBM-DA0321EN-SkillsNetwork/labs/datasets/Programming_Languages.html\""
   ]
  },
  {
   "cell_type": "code",
   "execution_count": 6,
   "id": "8134d128-ed73-4c7f-9a50-ace275fa76a1",
   "metadata": {
    "tags": []
   },
   "outputs": [],
   "source": [
    "data  = requests.get(url).text"
   ]
  },
  {
   "cell_type": "code",
   "execution_count": 7,
   "id": "4a2f4544-a2c0-412a-8ae0-40090375a7d8",
   "metadata": {
    "tags": []
   },
   "outputs": [],
   "source": [
    "soup = BeautifulSoup(data,\"html.parser\")"
   ]
  },
  {
   "cell_type": "code",
   "execution_count": 8,
   "id": "9ccb1275-e540-4e24-874b-1edb2a7dfd03",
   "metadata": {
    "tags": []
   },
   "outputs": [],
   "source": [
    "table = soup.find('table')"
   ]
  },
  {
   "cell_type": "code",
   "execution_count": 9,
   "id": "26302b5b-3aaf-4e72-88e0-073b23bae623",
   "metadata": {
    "tags": []
   },
   "outputs": [],
   "source": [
    "popular_languages = []\n",
    "for row in table.find_all('tr'):\n",
    "    cols = row.find_all('td')\n",
    "    popular_languages.append(\n",
    "        {\"Language\": cols[1].getText(), \"Average Annual Salary\": cols[3].getText()}\n",
    "    )\n",
    "   "
   ]
  },
  {
   "cell_type": "code",
   "execution_count": 10,
   "id": "b58c5c7f-1e16-4e22-a75f-72e613e5a4a2",
   "metadata": {
    "tags": []
   },
   "outputs": [],
   "source": [
    "soup_df = pd.DataFrame(popular_languages[1:]).set_index(\"Language\")"
   ]
  },
  {
   "cell_type": "code",
   "execution_count": 11,
   "id": "9edebc35-9ded-45f8-8e14-3470713e44ec",
   "metadata": {
    "tags": []
   },
   "outputs": [],
   "source": [
    "# first table (only table) from site is the one we want\n",
    "# first row is the header\n",
    "table = pd.read_html(url, header=0)[0].set_index(\"Language\")"
   ]
  },
  {
   "cell_type": "code",
   "execution_count": 12,
   "id": "7dad8d99-f43a-44ba-b052-fe64a579c6a5",
   "metadata": {
    "tags": []
   },
   "outputs": [],
   "source": [
    "\n",
    "table[[\"Average Annual Salary\"]].to_csv(\"popular-languages.csv\")"
   ]
  },
  {
   "cell_type": "code",
   "execution_count": null,
   "id": "b6d8973f-89f3-4282-8274-6bdb706f6b37",
   "metadata": {},
   "outputs": [],
   "source": []
  }
 ],
 "metadata": {
  "kernelspec": {
   "display_name": "Python",
   "language": "python",
   "name": "conda-env-python-py"
  },
  "language_info": {
   "codemirror_mode": {
    "name": "ipython",
    "version": 3
   },
   "file_extension": ".py",
   "mimetype": "text/x-python",
   "name": "python",
   "nbconvert_exporter": "python",
   "pygments_lexer": "ipython3",
   "version": "3.7.12"
  }
 },
 "nbformat": 4,
 "nbformat_minor": 5
}
